{
 "cells": [
  {
   "cell_type": "code",
   "execution_count": 17,
   "metadata": {},
   "outputs": [],
   "source": [
    "from pathlib import Path \n",
    "\n",
    "def create_project_structure(root_name : str = \"Project\")-> None:\n",
    "    \"\"\"Create Structure of Folder and file for Pytorch Project\n",
    "\n",
    "    Args:\n",
    "        root_name (str): root name of project folder\n",
    "    \"\"\"\n",
    "    readme = Path(\"README.md\")\n",
    "    readme.touch()\n",
    "    \n",
    "    ROOT_PATH = Path(f\"{root_name}/\")\n",
    "    \n",
    "    \n",
    "    structure = {\n",
    "        \"web_app\" : [\"demo\", \"web_page\"],\n",
    "        \"data\" : [\"raw\", \"processed\", \"dataset\", \"dataloader\"],\n",
    "        \"models\" : [\"architecture\", \"saved\"],\n",
    "        \"experiments\" : [],\n",
    "        \"notebooks\" : [\"theorical\", \"eda\", \"preprocessing\", \"modeling\", \"training\", \"evaluation\"],\n",
    "        \"functions\" : [\"utils\", \"dataset\", \"prediction\", \"visualization\", \"evaluation\"],\n",
    "        \"tests\" : [],    \n",
    "        \"docs\" : [],\n",
    "    }\n",
    "    \n",
    "    for parent_folder, child_folder in structure.items():\n",
    "        \n",
    "        parent_path = ROOT_PATH / parent_folder\n",
    "        parent_path.mkdir(exist_ok=True, parents=True)\n",
    "        \n",
    "        for child_name in child_folder:\n",
    "          \n",
    "          child_path = parent_path / child_name\n",
    "          child_path.mkdir(exist_ok=True, parents=True)\n",
    "        \n",
    "          \n",
    "    return (ROOT_PATH)"
   ]
  },
  {
   "cell_type": "code",
   "execution_count": 18,
   "metadata": {},
   "outputs": [],
   "source": [
    "!rm -rf Project/"
   ]
  },
  {
   "cell_type": "code",
   "execution_count": 19,
   "metadata": {},
   "outputs": [
    {
     "data": {
      "text/plain": [
       "PosixPath('Project')"
      ]
     },
     "execution_count": 19,
     "metadata": {},
     "output_type": "execute_result"
    }
   ],
   "source": [
    "create_project_structure(root_name=\"Project\")"
   ]
  },
  {
   "cell_type": "code",
   "execution_count": 3,
   "metadata": {},
   "outputs": [],
   "source": [
    "from package import import_package"
   ]
  },
  {
   "cell_type": "code",
   "execution_count": 4,
   "metadata": {},
   "outputs": [
    {
     "name": "stderr",
     "output_type": "stream",
     "text": [
      "Cloning into 'Pytorch-Model-Archiver'...\n"
     ]
    },
    {
     "name": "stdout",
     "output_type": "stream",
     "text": [
      "[INFO] : Moove [Pytorch-Model-Archiver/archive] to [archive]\n",
      "[INFO] : Remove [Pytorch-Model-Archiver]\n"
     ]
    },
    {
     "name": "stderr",
     "output_type": "stream",
     "text": [
      "Cloning into 'Pytorch-Training-Toolkit'...\n"
     ]
    },
    {
     "name": "stdout",
     "output_type": "stream",
     "text": [
      "[INFO] : Moove [Pytorch-Training-Toolkit/training] to [training]\n",
      "[INFO] : Remove [Pytorch-Training-Toolkit]\n"
     ]
    },
    {
     "name": "stderr",
     "output_type": "stream",
     "text": [
      "Cloning into 'Pytorch_Experiment_Framework'...\n"
     ]
    },
    {
     "name": "stdout",
     "output_type": "stream",
     "text": [
      "[INFO] : Moove [Pytorch_Experiment_Framework/saver] to [saver]\n",
      "[INFO] : Remove [Pytorch_Experiment_Framework]\n"
     ]
    },
    {
     "name": "stderr",
     "output_type": "stream",
     "text": [
      "Cloning into 'MlOps-Toolkit'...\n"
     ]
    },
    {
     "name": "stdout",
     "output_type": "stream",
     "text": [
      "[INFO] : Moove [MlOps-Toolkit/deployment] to [deployment]\n",
      "[INFO] : Remove [MlOps-Toolkit]\n"
     ]
    }
   ],
   "source": [
    "import_package(destination_folder=\".\")"
   ]
  }
 ],
 "metadata": {
  "kernelspec": {
   "display_name": "tf_gpu",
   "language": "python",
   "name": "python3"
  },
  "language_info": {
   "codemirror_mode": {
    "name": "ipython",
    "version": 3
   },
   "file_extension": ".py",
   "mimetype": "text/x-python",
   "name": "python",
   "nbconvert_exporter": "python",
   "pygments_lexer": "ipython3",
   "version": "3.9.16"
  },
  "orig_nbformat": 4
 },
 "nbformat": 4,
 "nbformat_minor": 2
}
